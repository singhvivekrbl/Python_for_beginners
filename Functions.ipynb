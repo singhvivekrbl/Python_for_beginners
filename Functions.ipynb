{
 "cells": [
  {
   "cell_type": "markdown",
   "metadata": {},
   "source": [
    "## Using functions"
   ]
  },
  {
   "cell_type": "code",
   "execution_count": 6,
   "metadata": {},
   "outputs": [
    {
     "name": "stdout",
     "output_type": "stream",
     "text": [
      "gmae\n",
      "fun\n",
      "cricket\n",
      "gmae\n",
      "fun\n"
     ]
    }
   ],
   "source": [
    "##storing function\n",
    "# Starting with 'def' means that define the defination of a function\n",
    "def word():\n",
    "    print ('gmae')\n",
    "    print('fun')\n",
    "# calling a stored function\n",
    "word()\n",
    "print('cricket')\n",
    "word()"
   ]
  },
  {
   "cell_type": "code",
   "execution_count": 10,
   "metadata": {},
   "outputs": [
    {
     "name": "stdout",
     "output_type": "stream",
     "text": [
      "w\n",
      "d\n"
     ]
    }
   ],
   "source": [
    "big=max('hello world')\n",
    "print(big)\n",
    "\n",
    "small=min('helloworld')\n",
    "print(small)"
   ]
  },
  {
   "cell_type": "code",
   "execution_count": 11,
   "metadata": {},
   "outputs": [
    {
     "name": "stdout",
     "output_type": "stream",
     "text": [
      "namaste\n",
      "bonjour\n",
      "hello\n"
     ]
    }
   ],
   "source": [
    "## Introducing parameters\n",
    "#parameter is a variable which is use in a function defination\n",
    "\n",
    "def welcome(lang):\n",
    "    if lang=='hindi':\n",
    "        print('namaste')\n",
    "    elif lang == 'french':\n",
    "        print('bonjour')\n",
    "    else:\n",
    "        print('hello')\n",
    "welcome('hindi')\n",
    "welcome('french')\n",
    "welcome('english')"
   ]
  },
  {
   "cell_type": "code",
   "execution_count": 13,
   "metadata": {},
   "outputs": [
    {
     "name": "stdout",
     "output_type": "stream",
     "text": [
      "namaste ashish\n",
      "namaste neelesh\n"
     ]
    }
   ],
   "source": [
    "## return value\n",
    "# Return a value to be used as a value of the function call in the calling expression\n",
    "def welcome():\n",
    "    return\"namaste\"\n",
    "\n",
    "print(welcome(),'ashish')\n",
    "print(welcome(),'neelesh')"
   ]
  },
  {
   "cell_type": "code",
   "execution_count": 14,
   "metadata": {},
   "outputs": [
    {
     "name": "stdout",
     "output_type": "stream",
     "text": [
      "30\n"
     ]
    }
   ],
   "source": [
    "def multitwo(a,b):\n",
    "    multiply=a*b\n",
    "    return multiply\n",
    "\n",
    "x= multitwo(5,6)\n",
    "print(x)\n"
   ]
  },
  {
   "cell_type": "code",
   "execution_count": 19,
   "metadata": {},
   "outputs": [
    {
     "name": "stdout",
     "output_type": "stream",
     "text": [
      "7\n",
      "6\n",
      "5\n",
      "4\n",
      "3\n",
      "2\n",
      "1\n",
      "done\n",
      "0\n"
     ]
    }
   ],
   "source": [
    "## Loops\n",
    "z=7\n",
    "while z>0:\n",
    "    print (z)\n",
    "    z=z-1\n",
    "print('done')\n",
    "print(z)"
   ]
  },
  {
   "cell_type": "code",
   "execution_count": null,
   "metadata": {},
   "outputs": [],
   "source": []
  },
  {
   "cell_type": "code",
   "execution_count": null,
   "metadata": {},
   "outputs": [],
   "source": []
  },
  {
   "cell_type": "code",
   "execution_count": null,
   "metadata": {},
   "outputs": [],
   "source": [
    "\n"
   ]
  },
  {
   "cell_type": "code",
   "execution_count": null,
   "metadata": {},
   "outputs": [],
   "source": []
  },
  {
   "cell_type": "code",
   "execution_count": null,
   "metadata": {},
   "outputs": [],
   "source": []
  }
 ],
 "metadata": {
  "kernelspec": {
   "display_name": "Python 3",
   "language": "python",
   "name": "python3"
  },
  "language_info": {
   "codemirror_mode": {
    "name": "ipython",
    "version": 3
   },
   "file_extension": ".py",
   "mimetype": "text/x-python",
   "name": "python",
   "nbconvert_exporter": "python",
   "pygments_lexer": "ipython3",
   "version": "3.6.4"
  }
 },
 "nbformat": 4,
 "nbformat_minor": 2
}
