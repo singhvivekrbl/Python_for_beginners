{
 "cells": [
  {
   "cell_type": "markdown",
   "metadata": {},
   "source": [
    "## Simple python program for beginners practice"
   ]
  },
  {
   "cell_type": "code",
   "execution_count": 2,
   "metadata": {},
   "outputs": [
    {
     "name": "stdout",
     "output_type": "stream",
     "text": [
      "hello world\n",
      "Are you ready for practice\n"
     ]
    }
   ],
   "source": [
    "#Python Program to Print Hello world!\n",
    "a='hello world'\n",
    "print(a)\n",
    "\n",
    "print('Are you ready for practice')"
   ]
  },
  {
   "cell_type": "code",
   "execution_count": 7,
   "metadata": {},
   "outputs": [
    {
     "name": "stdout",
     "output_type": "stream",
     "text": [
      "enter first number56.3\n",
      "enter second number52.96\n",
      "sum is 109.25999999999999\n"
     ]
    }
   ],
   "source": [
    "#Python Program to Add Two Numbers\n",
    "a=float(input('enter first number'))\n",
    "b=float(input('enter second number'))\n",
    "c=a+b\n",
    "print('sum is',c)"
   ]
  },
  {
   "cell_type": "code",
   "execution_count": 9,
   "metadata": {},
   "outputs": [
    {
     "name": "stdout",
     "output_type": "stream",
     "text": [
      "enter a number5564\n",
      "square root of number is: 74.59222479588607\n"
     ]
    }
   ],
   "source": [
    "#Python Program to Find the Square Root\n",
    "inp=int(input('enter a number'))\n",
    "a= inp**0.5\n",
    "print('square root of number is:', float(a))"
   ]
  },
  {
   "cell_type": "code",
   "execution_count": 11,
   "metadata": {},
   "outputs": [
    {
     "name": "stdout",
     "output_type": "stream",
     "text": [
      "enter the base of a triangle:5\n",
      "enter the height of a triangle:8\n",
      "area of a triangle is: 20.0\n"
     ]
    }
   ],
   "source": [
    "#Python Program to Calculate the Area of a Triangle\n",
    "base=int(input('enter the base of a triangle:'))\n",
    "height= int(input('enter the height of a triangle:'))\n",
    "area= 0.5*base*height\n",
    "print('area of a triangle is:',float(area))"
   ]
  },
  {
   "cell_type": "code",
   "execution_count": 25,
   "metadata": {},
   "outputs": [
    {
     "name": "stdout",
     "output_type": "stream",
     "text": [
      "enter side a:4\n",
      "enter side b:5\n",
      "enter side c:6\n",
      "area of a traingle is: 9.921567416492215\n"
     ]
    }
   ],
   "source": [
    "#area of triangle\n",
    "##s = (a+b+c)/2\n",
    "##area = √(s(s-a)*(s-b)*(s-c))\n",
    "\n",
    "a=float(input('enter side a:'))\n",
    "b=float(input('enter side b:'))\n",
    "c=float(input('enter side c:'))\n",
    "s=(a+b+c)/2\n",
    "\n",
    "area=float((s*(s-a)*(s-b)*(s-c))**0.5)\n",
    "\n",
    "print('area of a traingle is:',area)"
   ]
  },
  {
   "cell_type": "code",
   "execution_count": 29,
   "metadata": {},
   "outputs": [
    {
     "name": "stdout",
     "output_type": "stream",
     "text": [
      "enter value for a:3\n",
      "enter value for b:9\n",
      "enter value for c:4\n",
      "roots are real\n",
      "roots are -22.116843969807043 -4.883156030192957\n"
     ]
    }
   ],
   "source": [
    "#Python Program to Solve Quadratic Equation\n",
    "a=float(input('enter value for a:'))\n",
    "b=float(input('enter value for b:'))\n",
    "c=float(input('enter value for c:'))\n",
    "\n",
    "d= (b**2-(4*a*c))\n",
    "\n",
    "if d < 0:\n",
    "    print ('roots are unreal')\n",
    "elif d==0:\n",
    "    print ('roots are equal')\n",
    "else:\n",
    "    print('roots are real')\n",
    "    d=d**0.5\n",
    "    root1= float(-b-d)/2*a\n",
    "    root2= float(-b+d)/2*a\n",
    "    print('roots are',root1,root2)"
   ]
  },
  {
   "cell_type": "code",
   "execution_count": 34,
   "metadata": {},
   "outputs": [
    {
     "name": "stdout",
     "output_type": "stream",
     "text": [
      "enter a number a:4\n",
      "enter a number b:5\n",
      "swap value a: 5 swap value b: 4\n"
     ]
    }
   ],
   "source": [
    "#Python Program to Swap Two Variables\n",
    "a=int(input('enter a number a:'))\n",
    "b=int(input('enter a number b:'))\n",
    "\n",
    "swap=a\n",
    "a=b\n",
    "b=swap\n",
    "\n",
    "print('swap value a:',a,'swap value b:',b)"
   ]
  },
  {
   "cell_type": "code",
   "execution_count": 36,
   "metadata": {},
   "outputs": [
    {
     "name": "stdout",
     "output_type": "stream",
     "text": [
      "enter a kilometer: 5\n",
      "miles are 3.106855\n"
     ]
    }
   ],
   "source": [
    "#Python Program to Convert Kilometers to Miles\n",
    "\n",
    "inp=float(input('enter a kilometer: '))\n",
    "s= float(0.621371)\n",
    "miles=inp*s\n",
    "print('miles are',float(miles))"
   ]
  },
  {
   "cell_type": "code",
   "execution_count": 38,
   "metadata": {},
   "outputs": [
    {
     "name": "stdout",
     "output_type": "stream",
     "text": [
      "enter a celsius value: 36.7\n",
      "fahrenheit is:  98.06\n"
     ]
    }
   ],
   "source": [
    "#Python Program to Convert Celsius To Fahrenheit\n",
    "\n",
    "inp=float(input('enter a celsius value: '))\n",
    "\n",
    "a = (inp * 1.8) + 32\n",
    "print('fahrenheit is: ', float(a))\n"
   ]
  },
  {
   "cell_type": "code",
   "execution_count": null,
   "metadata": {},
   "outputs": [],
   "source": []
  },
  {
   "cell_type": "code",
   "execution_count": null,
   "metadata": {},
   "outputs": [],
   "source": []
  },
  {
   "cell_type": "code",
   "execution_count": null,
   "metadata": {},
   "outputs": [],
   "source": []
  }
 ],
 "metadata": {
  "kernelspec": {
   "display_name": "Python 3",
   "language": "python",
   "name": "python3"
  },
  "language_info": {
   "codemirror_mode": {
    "name": "ipython",
    "version": 3
   },
   "file_extension": ".py",
   "mimetype": "text/x-python",
   "name": "python",
   "nbconvert_exporter": "python",
   "pygments_lexer": "ipython3",
   "version": "3.6.4"
  }
 },
 "nbformat": 4,
 "nbformat_minor": 2
}
