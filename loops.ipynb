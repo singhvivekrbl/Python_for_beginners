{
 "cells": [
  {
   "cell_type": "markdown",
   "metadata": {},
   "source": [
    "## Starting with loops\n"
   ]
  },
  {
   "cell_type": "code",
   "execution_count": 6,
   "metadata": {},
   "outputs": [
    {
     "name": "stdout",
     "output_type": "stream",
     "text": [
      ">hello there\n",
      "done!\n",
      ">done\n"
     ]
    }
   ],
   "source": [
    "# Indefinit loof\n",
    "while True:\n",
    "    line=input('>')\n",
    "    if line == 'done':\n",
    "        break\n",
    "        print(line)\n",
    "    print('done!')"
   ]
  },
  {
   "cell_type": "code",
   "execution_count": 8,
   "metadata": {},
   "outputs": [
    {
     "name": "stdout",
     "output_type": "stream",
     "text": [
      "654321\n",
      "done\n"
     ]
    }
   ],
   "source": [
    "# Definit loop\n",
    "for i in [654321]:\n",
    "    print(i)\n",
    "print('done')"
   ]
  },
  {
   "cell_type": "code",
   "execution_count": 9,
   "metadata": {},
   "outputs": [
    {
     "name": "stdout",
     "output_type": "stream",
     "text": [
      "my favourite place is delhi\n",
      "my favourite place is bangalore\n",
      "my favourite place is mumbai\n",
      "my favourite place is chennai\n"
     ]
    }
   ],
   "source": [
    "places= ['delhi','bangalore','mumbai','chennai']\n",
    "for place in places:\n",
    "    print('my favourite place is',place)"
   ]
  },
  {
   "cell_type": "code",
   "execution_count": 14,
   "metadata": {},
   "outputs": [
    {
     "name": "stdout",
     "output_type": "stream",
     "text": [
      "first 0\n",
      "2 2\n",
      "3 3\n",
      "8 8\n",
      "9 9\n",
      "we found the largest number 9\n"
     ]
    }
   ],
   "source": [
    "# Program for finding a largest number\n",
    "largest_number=0\n",
    "print('first',largest_number)\n",
    "for num in [2,3,8,9,4,7]:\n",
    "        if num > largest_number:\n",
    "            largest_number=num\n",
    "            print(largest_number,num)\n",
    "print('we found the largest number',largest_number)"
   ]
  },
  {
   "cell_type": "code",
   "execution_count": 16,
   "metadata": {},
   "outputs": [
    {
     "name": "stdout",
     "output_type": "stream",
     "text": [
      "first 0\n",
      "1 9\n",
      "2 8\n",
      "3 7\n",
      "4 6\n",
      "5 5\n",
      "6 4\n",
      "last 6\n"
     ]
    }
   ],
   "source": [
    "# Counting in a loop\n",
    "x=0\n",
    "print('first',x)\n",
    "for i in (9,8,7,6,5,4):\n",
    "    x=x+1\n",
    "    print(x,i)\n",
    "print('last',x)"
   ]
  },
  {
   "cell_type": "code",
   "execution_count": 17,
   "metadata": {},
   "outputs": [
    {
     "name": "stdout",
     "output_type": "stream",
     "text": [
      "first 0\n",
      "9 9\n",
      "17 8\n",
      "24 7\n",
      "30 6\n",
      "35 5\n",
      "39 4\n",
      "last 39\n"
     ]
    }
   ],
   "source": [
    "# Adding in a loop\n",
    "x=0\n",
    "print('first',x)\n",
    "for i in [9,8,7,6,5,4]:\n",
    "    x=x+i\n",
    "    print(x,i)\n",
    "print('last',x)"
   ]
  },
  {
   "cell_type": "code",
   "execution_count": 18,
   "metadata": {},
   "outputs": [
    {
     "name": "stdout",
     "output_type": "stream",
     "text": [
      "first 0 0\n",
      "1 98\n",
      "2 152\n",
      "3 207\n",
      "4 232\n",
      "5 293\n",
      "6 380\n",
      "average value 63.333333333333336\n"
     ]
    }
   ],
   "source": [
    "# Finding an Average\n",
    "count=0\n",
    "sum=0\n",
    "print('first', count,sum)\n",
    "for i in [98,54,55,25,61,87]:\n",
    "    count=count+1\n",
    "    sum=sum+i\n",
    "    print(count,sum)\n",
    "print('average value',sum/count)"
   ]
  },
  {
   "cell_type": "code",
   "execution_count": 21,
   "metadata": {},
   "outputs": [
    {
     "name": "stdout",
     "output_type": "stream",
     "text": [
      "starting\n",
      "greater than 50 60\n",
      "greater than 50 80\n",
      "greater than 50 90\n",
      "stop\n"
     ]
    }
   ],
   "source": [
    "# Finding a largest number than 50\n",
    "print('starting')\n",
    "for i in [10,20,30,60,80,90]:\n",
    "    if i>50:\n",
    "        print(\"greater than 50\",i)\n",
    "print('stop')"
   ]
  },
  {
   "cell_type": "code",
   "execution_count": null,
   "metadata": {},
   "outputs": [],
   "source": []
  }
 ],
 "metadata": {
  "kernelspec": {
   "display_name": "Python 3",
   "language": "python",
   "name": "python3"
  },
  "language_info": {
   "codemirror_mode": {
    "name": "ipython",
    "version": 3
   },
   "file_extension": ".py",
   "mimetype": "text/x-python",
   "name": "python",
   "nbconvert_exporter": "python",
   "pygments_lexer": "ipython3",
   "version": "3.6.4"
  }
 },
 "nbformat": 4,
 "nbformat_minor": 2
}
